{
 "cells": [
  {
   "cell_type": "markdown",
   "id": "1b5a9efd",
   "metadata": {},
   "source": [
    "**Challenge 1: Square Numbers and Return Their Sum**"
   ]
  },
  {
   "cell_type": "code",
   "execution_count": 10,
   "id": "dbd07bb2",
   "metadata": {},
   "outputs": [
    {
     "data": {
      "text/plain": [
       "35"
      ]
     },
     "execution_count": 10,
     "metadata": {},
     "output_type": "execute_result"
    }
   ],
   "source": [
    "class Point:\n",
    "    def __init__(self,a,b,c):\n",
    "        self.a=a\n",
    "        self.b=b\n",
    "        self.c=c\n",
    "        \n",
    "    def square_Sum(self):\n",
    "        return self.a**2+self.b**2+self.c**2\n",
    "\n",
    "square_sum_obj=Point(1,3,5)\n",
    "square_sum_obj.square_Sum()"
   ]
  },
  {
   "cell_type": "markdown",
   "id": "43c84889",
   "metadata": {},
   "source": [
    "**Challenge 2: Calculate the Student's Performance**"
   ]
  },
  {
   "cell_type": "code",
   "execution_count": 13,
   "id": "6f5a3719",
   "metadata": {},
   "outputs": [
    {
     "name": "stdout",
     "output_type": "stream",
     "text": [
      "Enter Name: Mayuri\n",
      "Enter maths obtain marks: 98\n",
      "Enter sci obtain marks: 91\n",
      "Enter geo obtain marks: 89\n",
      "Enter total obtain marks of all the subjects: 278\n",
      "278\n",
      "92.66666666666666\n"
     ]
    }
   ],
   "source": [
    "class Student:\n",
    "    \n",
    "    def  __init__(self,name,maths,sci,geo,Marks_Obtain):\n",
    "        self.name=name\n",
    "        self.maths=maths\n",
    "        self.sci=sci\n",
    "        self.geo=geo\n",
    "        self.Marks_Obtain=Marks_Obtain\n",
    "        \n",
    "    def total_Marks(self):\n",
    "        self.Marks_Obtain=(self.maths+self.sci+self.geo)\n",
    "        print(self.Marks_Obtain)\n",
    "    \n",
    "    def percentage_Marks(self):\n",
    "        self.total_marks=300\n",
    "        Percentage_Marks = ( self.Marks_Obtain/self.total_marks )*100\n",
    "        return Percentage_Marks  \n",
    "name=(input(\"Enter Name: \"))\n",
    "maths=int(input(\"Enter maths obtain marks: \"))\n",
    "sci=int(input(\"Enter sci obtain marks: \"))\n",
    "geo=int(input(\"Enter geo obtain marks: \"))\n",
    "Marks_Obtain=int(input(\"Enter total obtain marks of all the subjects: \"))\n",
    "    \n",
    "obj_marks=Student(name,maths,sci,geo,Marks_Obtain)  \n",
    "(obj_marks.total_Marks())\n",
    "print(obj_marks.percentage_Marks())"
   ]
  },
  {
   "cell_type": "markdown",
   "id": "128044a0",
   "metadata": {},
   "source": [
    "**Challenge 3: Implement a Calculator Class**"
   ]
  },
  {
   "cell_type": "code",
   "execution_count": 17,
   "id": "e7bbfc5d",
   "metadata": {},
   "outputs": [
    {
     "name": "stdout",
     "output_type": "stream",
     "text": [
      "Enter first no: 94\n",
      "Enter second no: 10\n",
      "104\n",
      "84\n",
      "940\n",
      "9.4\n"
     ]
    }
   ],
   "source": [
    "class Calculator:\n",
    "    \n",
    "    def __init__(self,num1,num2):\n",
    "        self.num1=num1\n",
    "        self.num2=num2\n",
    "        \n",
    "    def add(self):\n",
    "        return self.num1+self.num2\n",
    "        \n",
    "    def subtract(self):\n",
    "        return self.num1-self.num2\n",
    "        \n",
    "        \n",
    "    def multiply(self):\n",
    "        return self.num1*self.num2\n",
    "        \n",
    "        \n",
    "    def divide(self):\n",
    "        return self.num1/self.num2\n",
    "        \n",
    "num1=int(input(\"Enter first no: \"))        \n",
    "num2=int(input(\"Enter second no: \"))     \n",
    "obj=Calculator(num1,num2)\n",
    "print(obj.add())\n",
    "print(obj.subtract())\n",
    "print(obj.multiply())\n",
    "print(obj.divide()) "
   ]
  },
  {
   "cell_type": "code",
   "execution_count": null,
   "id": "3fa30b1b",
   "metadata": {},
   "outputs": [],
   "source": []
  }
 ],
 "metadata": {
  "kernelspec": {
   "display_name": "Python 3 (ipykernel)",
   "language": "python",
   "name": "python3"
  },
  "language_info": {
   "codemirror_mode": {
    "name": "ipython",
    "version": 3
   },
   "file_extension": ".py",
   "mimetype": "text/x-python",
   "name": "python",
   "nbconvert_exporter": "python",
   "pygments_lexer": "ipython3",
   "version": "3.10.2"
  }
 },
 "nbformat": 4,
 "nbformat_minor": 5
}
